{
 "cells": [
  {
   "cell_type": "code",
   "execution_count": 1,
   "metadata": {},
   "outputs": [],
   "source": [
    "# prepare data\n",
    "\n",
    "from tensorflow.keras.datasets import cifar10\n",
    "\n",
    "(x_train, y_train), (x_test, y_test) = cifar10.load_data()\n",
    "\n",
    "# normalize\n",
    "x_train, x_test = x_train / 255.0, x_test / 255.0"
   ]
  },
  {
   "cell_type": "code",
   "execution_count": 2,
   "metadata": {},
   "outputs": [],
   "source": [
    "# https://qiita.com/yy1003/items/c590d1a26918e4abe512\n",
    "\n",
    "from tensorflow.keras import Model, Input\n",
    "from tensorflow.keras.layers import Conv2D, MaxPooling2D, Dense, Dropout, GlobalAveragePooling2D\n",
    "\n",
    "def provide_model(optimizer = \"adam\"):\n",
    "    inputs = Input(shape = (32,32,3))\n",
    "\n",
    "    x = Conv2D(64,(3,3),padding = \"SAME\",activation= \"relu\")(inputs)\n",
    "    x = Conv2D(64,(3,3),padding = \"SAME\",activation= \"relu\")(x)\n",
    "    x = Dropout(0.25)(x)\n",
    "    x = MaxPooling2D()(x)\n",
    "\n",
    "    x = Conv2D(128,(3,3),padding = \"SAME\",activation= \"relu\")(x)\n",
    "    x = Conv2D(128,(3,3),padding = \"SAME\",activation= \"relu\")(x)\n",
    "    x = Dropout(0.25)(x)\n",
    "    x = MaxPooling2D()(x)\n",
    "\n",
    "    x = Conv2D(256,(3,3),padding = \"SAME\",activation= \"relu\")(x)\n",
    "    x = Conv2D(256,(3,3),padding = \"SAME\",activation= \"relu\")(x)\n",
    "    x = GlobalAveragePooling2D()(x)\n",
    "\n",
    "    x = Dense(1024,activation = \"relu\")(x)\n",
    "    x = Dropout(0.25)(x)\n",
    "    output = Dense(10,activation = \"softmax\")(x)\n",
    "\n",
    "    model = Model(inputs, output)\n",
    "    model.compile(optimizer=optimizer, loss='sparse_categorical_crossentropy', metrics=['accuracy'])\n",
    "\n",
    "    return model"
   ]
  },
  {
   "cell_type": "code",
   "execution_count": 3,
   "metadata": {},
   "outputs": [
    {
     "name": "stdout",
     "output_type": "stream",
     "text": [
      "Epoch 1/10\n",
      "\u001b[1m1563/1563\u001b[0m \u001b[32m━━━━━━━━━━━━━━━━━━━━\u001b[0m\u001b[37m\u001b[0m \u001b[1m287s\u001b[0m 183ms/step - accuracy: 0.2664 - loss: 1.8949 - val_accuracy: 0.5134 - val_loss: 1.3293\n",
      "Epoch 2/10\n",
      "\u001b[1m1563/1563\u001b[0m \u001b[32m━━━━━━━━━━━━━━━━━━━━\u001b[0m\u001b[37m\u001b[0m \u001b[1m274s\u001b[0m 175ms/step - accuracy: 0.5735 - loss: 1.1596 - val_accuracy: 0.6237 - val_loss: 1.0411\n",
      "Epoch 3/10\n",
      "\u001b[1m1563/1563\u001b[0m \u001b[32m━━━━━━━━━━━━━━━━━━━━\u001b[0m\u001b[37m\u001b[0m \u001b[1m272s\u001b[0m 174ms/step - accuracy: 0.6695 - loss: 0.9177 - val_accuracy: 0.6650 - val_loss: 0.9533\n",
      "Epoch 4/10\n",
      "\u001b[1m1563/1563\u001b[0m \u001b[32m━━━━━━━━━━━━━━━━━━━━\u001b[0m\u001b[37m\u001b[0m \u001b[1m275s\u001b[0m 176ms/step - accuracy: 0.7257 - loss: 0.7709 - val_accuracy: 0.7289 - val_loss: 0.7757\n",
      "Epoch 5/10\n",
      "\u001b[1m1563/1563\u001b[0m \u001b[32m━━━━━━━━━━━━━━━━━━━━\u001b[0m\u001b[37m\u001b[0m \u001b[1m277s\u001b[0m 177ms/step - accuracy: 0.7664 - loss: 0.6693 - val_accuracy: 0.7635 - val_loss: 0.6983\n",
      "Epoch 6/10\n",
      "\u001b[1m1563/1563\u001b[0m \u001b[32m━━━━━━━━━━━━━━━━━━━━\u001b[0m\u001b[37m\u001b[0m \u001b[1m278s\u001b[0m 178ms/step - accuracy: 0.7969 - loss: 0.5818 - val_accuracy: 0.7804 - val_loss: 0.6497\n",
      "Epoch 7/10\n",
      "\u001b[1m1563/1563\u001b[0m \u001b[32m━━━━━━━━━━━━━━━━━━━━\u001b[0m\u001b[37m\u001b[0m \u001b[1m280s\u001b[0m 179ms/step - accuracy: 0.8156 - loss: 0.5246 - val_accuracy: 0.7646 - val_loss: 0.6901\n",
      "Epoch 8/10\n",
      "\u001b[1m1563/1563\u001b[0m \u001b[32m━━━━━━━━━━━━━━━━━━━━\u001b[0m\u001b[37m\u001b[0m \u001b[1m279s\u001b[0m 178ms/step - accuracy: 0.8375 - loss: 0.4660 - val_accuracy: 0.7831 - val_loss: 0.6462\n",
      "Epoch 9/10\n",
      "\u001b[1m1563/1563\u001b[0m \u001b[32m━━━━━━━━━━━━━━━━━━━━\u001b[0m\u001b[37m\u001b[0m \u001b[1m282s\u001b[0m 180ms/step - accuracy: 0.8489 - loss: 0.4203 - val_accuracy: 0.7724 - val_loss: 0.6873\n",
      "Epoch 10/10\n",
      "\u001b[1m1563/1563\u001b[0m \u001b[32m━━━━━━━━━━━━━━━━━━━━\u001b[0m\u001b[37m\u001b[0m \u001b[1m288s\u001b[0m 184ms/step - accuracy: 0.8666 - loss: 0.3793 - val_accuracy: 0.7962 - val_loss: 0.6291\n"
     ]
    },
    {
     "data": {
      "text/plain": [
       "<keras.src.callbacks.history.History at 0x15675fb30>"
      ]
     },
     "execution_count": 3,
     "metadata": {},
     "output_type": "execute_result"
    }
   ],
   "source": [
    "# train\n",
    "\n",
    "model = provide_model()\n",
    "\n",
    "model.fit(x_train, y_train, epochs=10, validation_data=(x_test, y_test))"
   ]
  },
  {
   "cell_type": "code",
   "execution_count": 4,
   "metadata": {},
   "outputs": [
    {
     "name": "stdout",
     "output_type": "stream",
     "text": [
      "313/313 - 16s - 50ms/step - accuracy: 0.7962 - loss: 0.6291\n",
      "\n",
      "\n",
      "Test accuracy: 0.7961999773979187\n",
      "Test loss: 0.6291453838348389\n"
     ]
    }
   ],
   "source": [
    "# eval\n",
    "\n",
    "test_loss, test_acc = model.evaluate(x_test, y_test, verbose=2)\n",
    "print(\"\\n\")\n",
    "print('Test accuracy:', test_acc)\n",
    "print('Test loss:', test_loss)"
   ]
  },
  {
   "cell_type": "code",
   "execution_count": 5,
   "metadata": {},
   "outputs": [
    {
     "name": "stdout",
     "output_type": "stream",
     "text": [
      "Epoch 1/10\n",
      "\u001b[1m1563/1563\u001b[0m \u001b[32m━━━━━━━━━━━━━━━━━━━━\u001b[0m\u001b[37m\u001b[0m \u001b[1m307s\u001b[0m 196ms/step - accuracy: 0.1334 - loss: 2.2691 - val_accuracy: 0.1778 - val_loss: 2.1550\n",
      "Epoch 2/10\n",
      "\u001b[1m1563/1563\u001b[0m \u001b[32m━━━━━━━━━━━━━━━━━━━━\u001b[0m\u001b[37m\u001b[0m \u001b[1m315s\u001b[0m 201ms/step - accuracy: 0.2365 - loss: 2.0302 - val_accuracy: 0.2932 - val_loss: 1.9647\n",
      "Epoch 3/10\n",
      "\u001b[1m1563/1563\u001b[0m \u001b[32m━━━━━━━━━━━━━━━━━━━━\u001b[0m\u001b[37m\u001b[0m \u001b[1m319s\u001b[0m 204ms/step - accuracy: 0.2994 - loss: 1.8840 - val_accuracy: 0.3034 - val_loss: 1.8634\n",
      "Epoch 4/10\n",
      "\u001b[1m1563/1563\u001b[0m \u001b[32m━━━━━━━━━━━━━━━━━━━━\u001b[0m\u001b[37m\u001b[0m \u001b[1m319s\u001b[0m 204ms/step - accuracy: 0.3503 - loss: 1.7491 - val_accuracy: 0.3863 - val_loss: 1.7093\n",
      "Epoch 5/10\n",
      "\u001b[1m1563/1563\u001b[0m \u001b[32m━━━━━━━━━━━━━━━━━━━━\u001b[0m\u001b[37m\u001b[0m \u001b[1m320s\u001b[0m 205ms/step - accuracy: 0.3848 - loss: 1.6543 - val_accuracy: 0.4038 - val_loss: 1.6775\n",
      "Epoch 6/10\n",
      "\u001b[1m1563/1563\u001b[0m \u001b[32m━━━━━━━━━━━━━━━━━━━━\u001b[0m\u001b[37m\u001b[0m \u001b[1m319s\u001b[0m 204ms/step - accuracy: 0.4148 - loss: 1.5789 - val_accuracy: 0.4174 - val_loss: 1.6440\n",
      "Epoch 7/10\n",
      "\u001b[1m1563/1563\u001b[0m \u001b[32m━━━━━━━━━━━━━━━━━━━━\u001b[0m\u001b[37m\u001b[0m \u001b[1m319s\u001b[0m 204ms/step - accuracy: 0.4473 - loss: 1.5059 - val_accuracy: 0.4801 - val_loss: 1.4893\n",
      "Epoch 8/10\n",
      "\u001b[1m1563/1563\u001b[0m \u001b[32m━━━━━━━━━━━━━━━━━━━━\u001b[0m\u001b[37m\u001b[0m \u001b[1m325s\u001b[0m 208ms/step - accuracy: 0.4736 - loss: 1.4412 - val_accuracy: 0.4750 - val_loss: 1.4712\n",
      "Epoch 9/10\n",
      "\u001b[1m1563/1563\u001b[0m \u001b[32m━━━━━━━━━━━━━━━━━━━━\u001b[0m\u001b[37m\u001b[0m \u001b[1m321s\u001b[0m 205ms/step - accuracy: 0.4970 - loss: 1.3795 - val_accuracy: 0.4926 - val_loss: 1.4694\n",
      "Epoch 10/10\n",
      "\u001b[1m1563/1563\u001b[0m \u001b[32m━━━━━━━━━━━━━━━━━━━━\u001b[0m\u001b[37m\u001b[0m \u001b[1m322s\u001b[0m 206ms/step - accuracy: 0.5218 - loss: 1.3250 - val_accuracy: 0.5557 - val_loss: 1.3679\n"
     ]
    },
    {
     "data": {
      "text/plain": [
       "<keras.src.callbacks.history.History at 0x1498f2690>"
      ]
     },
     "execution_count": 5,
     "metadata": {},
     "output_type": "execute_result"
    }
   ],
   "source": [
    "# train\n",
    "\n",
    "model = provide_model(\"sgd\")\n",
    "\n",
    "model.fit(x_train, y_train, epochs=10, validation_data=(x_test, y_test))"
   ]
  },
  {
   "cell_type": "code",
   "execution_count": 6,
   "metadata": {},
   "outputs": [
    {
     "name": "stdout",
     "output_type": "stream",
     "text": [
      "313/313 - 17s - 55ms/step - accuracy: 0.5557 - loss: 1.3679\n",
      "\n",
      "\n",
      "Test accuracy: 0.5557000041007996\n",
      "Test loss: 1.3679313659667969\n"
     ]
    }
   ],
   "source": [
    "# eval\n",
    "\n",
    "test_loss, test_acc = model.evaluate(x_test, y_test, verbose=2)\n",
    "print(\"\\n\")\n",
    "print('Test accuracy:', test_acc)\n",
    "print('Test loss:', test_loss)"
   ]
  }
 ],
 "metadata": {
  "kernelspec": {
   "display_name": "venv",
   "language": "python",
   "name": "python3"
  },
  "language_info": {
   "codemirror_mode": {
    "name": "ipython",
    "version": 3
   },
   "file_extension": ".py",
   "mimetype": "text/x-python",
   "name": "python",
   "nbconvert_exporter": "python",
   "pygments_lexer": "ipython3",
   "version": "3.12.6"
  }
 },
 "nbformat": 4,
 "nbformat_minor": 2
}
