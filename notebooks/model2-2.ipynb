{
 "cells": [
  {
   "cell_type": "code",
   "execution_count": 7,
   "metadata": {},
   "outputs": [],
   "source": [
    "# prepare data\n",
    "\n",
    "from tensorflow.keras.datasets import cifar10\n",
    "\n",
    "(x_train, y_train), (x_test, y_test) = cifar10.load_data()\n",
    "\n",
    "# normalize\n",
    "x_train, x_test = x_train / 255.0, x_test / 255.0"
   ]
  },
  {
   "cell_type": "code",
   "execution_count": 8,
   "metadata": {},
   "outputs": [],
   "source": [
    "# https://qiita.com/yy1003/items/c590d1a26918e4abe512\n",
    "\n",
    "from tensorflow.keras import Model, Input\n",
    "from tensorflow.keras.layers import Conv2D, MaxPooling2D, Dense, Dropout, BatchNormalization, GlobalAveragePooling2D\n",
    "\n",
    "def provide_model(optimizer = \"adam\"):\n",
    "    inputs = Input(shape = (32,32,3))\n",
    "\n",
    "    x = Conv2D(64,(3,3),padding = \"SAME\",activation= \"relu\")(inputs)\n",
    "    x = Conv2D(64,(3,3),padding = \"SAME\",activation= \"relu\")(x)\n",
    "    x = BatchNormalization()(x)\n",
    "    x = Conv2D(64,(3,3),padding = \"SAME\",activation= \"relu\")(x)\n",
    "    x = MaxPooling2D()(x)\n",
    "    x = Dropout(0.25)(x)\n",
    "\n",
    "    x = Conv2D(128,(3,3),padding = \"SAME\",activation= \"relu\")(x)\n",
    "    x = Conv2D(128,(3,3),padding = \"SAME\",activation= \"relu\")(x)\n",
    "    x = BatchNormalization()(x)\n",
    "    x = Conv2D(128,(3,3),padding = \"SAME\",activation= \"relu\")(x)\n",
    "    x = MaxPooling2D()(x)\n",
    "    x = Dropout(0.25)(x)\n",
    "\n",
    "    x = Conv2D(256,(3,3),padding = \"SAME\",activation= \"relu\")(x)\n",
    "    x = Conv2D(256,(3,3),padding = \"SAME\",activation= \"relu\")(x)\n",
    "    x = BatchNormalization()(x)\n",
    "    x = Conv2D(256,(3,3),padding = \"SAME\",activation= \"relu\")(x)\n",
    "    x = Conv2D(256,(3,3),padding = \"SAME\",activation= \"relu\")(x)\n",
    "    x = Conv2D(256,(3,3),padding = \"SAME\",activation= \"relu\")(x)\n",
    "    x = BatchNormalization()(x)\n",
    "    x = Conv2D(512,(3,3),padding = \"SAME\",activation= \"relu\")(x)\n",
    "    x = Conv2D(512,(3,3),padding = \"SAME\",activation= \"relu\")(x)\n",
    "    x = GlobalAveragePooling2D()(x)\n",
    "\n",
    "    x = Dense(1024,activation = \"relu\")(x)\n",
    "    x = Dropout(0.5)(x)\n",
    "    x = Dense(1024,activation = \"relu\")(x)\n",
    "    x = Dropout(0.5)(x)\n",
    "    output  = Dense(10,activation = \"softmax\")(x)\n",
    "\n",
    "    model = Model(inputs, output)\n",
    "    model.compile(optimizer=optimizer, loss='sparse_categorical_crossentropy', metrics=['accuracy'])\n",
    "\n",
    "    return model"
   ]
  },
  {
   "cell_type": "code",
   "execution_count": 9,
   "metadata": {},
   "outputs": [
    {
     "name": "stdout",
     "output_type": "stream",
     "text": [
      "Epoch 1/10\n",
      "\u001b[1m1563/1563\u001b[0m \u001b[32m━━━━━━━━━━━━━━━━━━━━\u001b[0m\u001b[37m\u001b[0m \u001b[1m1173s\u001b[0m 749ms/step - accuracy: 0.2088 - loss: 1.9952 - val_accuracy: 0.4041 - val_loss: 1.5634\n",
      "Epoch 2/10\n",
      "\u001b[1m1563/1563\u001b[0m \u001b[32m━━━━━━━━━━━━━━━━━━━━\u001b[0m\u001b[37m\u001b[0m \u001b[1m3101s\u001b[0m 2s/step - accuracy: 0.4627 - loss: 1.4388 - val_accuracy: 0.3770 - val_loss: 1.9909\n",
      "Epoch 3/10\n",
      "\u001b[1m1563/1563\u001b[0m \u001b[32m━━━━━━━━━━━━━━━━━━━━\u001b[0m\u001b[37m\u001b[0m \u001b[1m1003s\u001b[0m 642ms/step - accuracy: 0.6022 - loss: 1.1247 - val_accuracy: 0.6187 - val_loss: 1.1474\n",
      "Epoch 4/10\n",
      "\u001b[1m1563/1563\u001b[0m \u001b[32m━━━━━━━━━━━━━━━━━━━━\u001b[0m\u001b[37m\u001b[0m \u001b[1m996s\u001b[0m 637ms/step - accuracy: 0.6583 - loss: 0.9657 - val_accuracy: 0.7051 - val_loss: 0.8482\n",
      "Epoch 5/10\n",
      "\u001b[1m1563/1563\u001b[0m \u001b[32m━━━━━━━━━━━━━━━━━━━━\u001b[0m\u001b[37m\u001b[0m \u001b[1m1005s\u001b[0m 643ms/step - accuracy: 0.7059 - loss: 0.8508 - val_accuracy: 0.7176 - val_loss: 0.8078\n",
      "Epoch 6/10\n",
      "\u001b[1m1563/1563\u001b[0m \u001b[32m━━━━━━━━━━━━━━━━━━━━\u001b[0m\u001b[37m\u001b[0m \u001b[1m1035s\u001b[0m 662ms/step - accuracy: 0.7402 - loss: 0.7626 - val_accuracy: 0.7284 - val_loss: 0.8022\n",
      "Epoch 7/10\n",
      "\u001b[1m1563/1563\u001b[0m \u001b[32m━━━━━━━━━━━━━━━━━━━━\u001b[0m\u001b[37m\u001b[0m \u001b[1m1124s\u001b[0m 719ms/step - accuracy: 0.7632 - loss: 0.6983 - val_accuracy: 0.6946 - val_loss: 0.9446\n",
      "Epoch 8/10\n",
      "\u001b[1m1563/1563\u001b[0m \u001b[32m━━━━━━━━━━━━━━━━━━━━\u001b[0m\u001b[37m\u001b[0m \u001b[1m1153s\u001b[0m 738ms/step - accuracy: 0.7823 - loss: 0.6431 - val_accuracy: 0.7603 - val_loss: 0.7017\n",
      "Epoch 9/10\n",
      "\u001b[1m1563/1563\u001b[0m \u001b[32m━━━━━━━━━━━━━━━━━━━━\u001b[0m\u001b[37m\u001b[0m \u001b[1m1191s\u001b[0m 762ms/step - accuracy: 0.8047 - loss: 0.5877 - val_accuracy: 0.6945 - val_loss: 1.5082\n",
      "Epoch 10/10\n",
      "\u001b[1m1437/1563\u001b[0m \u001b[32m━━━━━━━━━━━━━━━━━━\u001b[0m\u001b[37m━━\u001b[0m \u001b[1m1:33\u001b[0m 739ms/step - accuracy: 0.8161 - loss: 0.5549"
     ]
    },
    {
     "name": "stderr",
     "output_type": "stream",
     "text": [
      "2025-01-29 01:26:17.878150: I tensorflow/core/framework/local_rendezvous.cc:405] Local rendezvous is aborting with status: INVALID_ARGUMENT: Incompatible shapes: [0] vs. [3,3,512,512]\n",
      "\t [[{{function_node __inference_one_step_on_data_8396}}{{node adam/truediv_65}}]]\n"
     ]
    },
    {
     "ename": "InvalidArgumentError",
     "evalue": "Graph execution error:\n\nDetected at node adam/truediv_65 defined at (most recent call last):\n  File \"<frozen runpy>\", line 198, in _run_module_as_main\n\n  File \"<frozen runpy>\", line 88, in _run_code\n\n  File \"/Users/pictomo/Repositories/CNNClassifier/venv/lib/python3.12/site-packages/ipykernel_launcher.py\", line 18, in <module>\n\n  File \"/Users/pictomo/Repositories/CNNClassifier/venv/lib/python3.12/site-packages/traitlets/config/application.py\", line 1075, in launch_instance\n\n  File \"/Users/pictomo/Repositories/CNNClassifier/venv/lib/python3.12/site-packages/ipykernel/kernelapp.py\", line 739, in start\n\n  File \"/Users/pictomo/Repositories/CNNClassifier/venv/lib/python3.12/site-packages/tornado/platform/asyncio.py\", line 205, in start\n\n  File \"/Users/pictomo/.pyenv/versions/3.12.6/lib/python3.12/asyncio/base_events.py\", line 641, in run_forever\n\n  File \"/Users/pictomo/.pyenv/versions/3.12.6/lib/python3.12/asyncio/base_events.py\", line 1986, in _run_once\n\n  File \"/Users/pictomo/.pyenv/versions/3.12.6/lib/python3.12/asyncio/events.py\", line 88, in _run\n\n  File \"/Users/pictomo/Repositories/CNNClassifier/venv/lib/python3.12/site-packages/ipykernel/kernelbase.py\", line 545, in dispatch_queue\n\n  File \"/Users/pictomo/Repositories/CNNClassifier/venv/lib/python3.12/site-packages/ipykernel/kernelbase.py\", line 534, in process_one\n\n  File \"/Users/pictomo/Repositories/CNNClassifier/venv/lib/python3.12/site-packages/ipykernel/kernelbase.py\", line 437, in dispatch_shell\n\n  File \"/Users/pictomo/Repositories/CNNClassifier/venv/lib/python3.12/site-packages/ipykernel/ipkernel.py\", line 362, in execute_request\n\n  File \"/Users/pictomo/Repositories/CNNClassifier/venv/lib/python3.12/site-packages/ipykernel/kernelbase.py\", line 778, in execute_request\n\n  File \"/Users/pictomo/Repositories/CNNClassifier/venv/lib/python3.12/site-packages/ipykernel/ipkernel.py\", line 449, in do_execute\n\n  File \"/Users/pictomo/Repositories/CNNClassifier/venv/lib/python3.12/site-packages/ipykernel/zmqshell.py\", line 549, in run_cell\n\n  File \"/Users/pictomo/Repositories/CNNClassifier/venv/lib/python3.12/site-packages/IPython/core/interactiveshell.py\", line 3075, in run_cell\n\n  File \"/Users/pictomo/Repositories/CNNClassifier/venv/lib/python3.12/site-packages/IPython/core/interactiveshell.py\", line 3130, in _run_cell\n\n  File \"/Users/pictomo/Repositories/CNNClassifier/venv/lib/python3.12/site-packages/IPython/core/async_helpers.py\", line 128, in _pseudo_sync_runner\n\n  File \"/Users/pictomo/Repositories/CNNClassifier/venv/lib/python3.12/site-packages/IPython/core/interactiveshell.py\", line 3334, in run_cell_async\n\n  File \"/Users/pictomo/Repositories/CNNClassifier/venv/lib/python3.12/site-packages/IPython/core/interactiveshell.py\", line 3517, in run_ast_nodes\n\n  File \"/Users/pictomo/Repositories/CNNClassifier/venv/lib/python3.12/site-packages/IPython/core/interactiveshell.py\", line 3577, in run_code\n\n  File \"/var/folders/lc/xltvcjxj36qgw_bk7bn42jp00000gn/T/ipykernel_97995/3063878255.py\", line 5, in <module>\n\n  File \"/Users/pictomo/Repositories/CNNClassifier/venv/lib/python3.12/site-packages/keras/src/utils/traceback_utils.py\", line 117, in error_handler\n\n  File \"/Users/pictomo/Repositories/CNNClassifier/venv/lib/python3.12/site-packages/keras/src/backend/tensorflow/trainer.py\", line 371, in fit\n\n  File \"/Users/pictomo/Repositories/CNNClassifier/venv/lib/python3.12/site-packages/keras/src/backend/tensorflow/trainer.py\", line 219, in function\n\n  File \"/Users/pictomo/Repositories/CNNClassifier/venv/lib/python3.12/site-packages/keras/src/backend/tensorflow/trainer.py\", line 132, in multi_step_on_iterator\n\n  File \"/Users/pictomo/Repositories/CNNClassifier/venv/lib/python3.12/site-packages/keras/src/backend/tensorflow/trainer.py\", line 113, in one_step_on_data\n\n  File \"/Users/pictomo/Repositories/CNNClassifier/venv/lib/python3.12/site-packages/keras/src/backend/tensorflow/trainer.py\", line 80, in train_step\n\n  File \"/Users/pictomo/Repositories/CNNClassifier/venv/lib/python3.12/site-packages/keras/src/optimizers/base_optimizer.py\", line 383, in apply_gradients\n\n  File \"/Users/pictomo/Repositories/CNNClassifier/venv/lib/python3.12/site-packages/keras/src/optimizers/base_optimizer.py\", line 448, in apply\n\n  File \"/Users/pictomo/Repositories/CNNClassifier/venv/lib/python3.12/site-packages/keras/src/optimizers/base_optimizer.py\", line 511, in _backend_apply_gradients\n\n  File \"/Users/pictomo/Repositories/CNNClassifier/venv/lib/python3.12/site-packages/keras/src/backend/tensorflow/optimizer.py\", line 120, in _backend_update_step\n\n  File \"/Users/pictomo/Repositories/CNNClassifier/venv/lib/python3.12/site-packages/keras/src/backend/tensorflow/optimizer.py\", line 134, in _distributed_tf_update_step\n\n  File \"/Users/pictomo/Repositories/CNNClassifier/venv/lib/python3.12/site-packages/keras/src/backend/tensorflow/optimizer.py\", line 131, in apply_grad_to_update_var\n\n  File \"/Users/pictomo/Repositories/CNNClassifier/venv/lib/python3.12/site-packages/keras/src/optimizers/adam.py\", line 147, in update_step\n\n  File \"/Users/pictomo/Repositories/CNNClassifier/venv/lib/python3.12/site-packages/keras/src/ops/numpy.py\", line 6055, in divide\n\n  File \"/Users/pictomo/Repositories/CNNClassifier/venv/lib/python3.12/site-packages/keras/src/backend/tensorflow/sparse.py\", line 780, in sparse_wrapper\n\n  File \"/Users/pictomo/Repositories/CNNClassifier/venv/lib/python3.12/site-packages/keras/src/backend/tensorflow/numpy.py\", line 2398, in divide\n\nIncompatible shapes: [0] vs. [3,3,512,512]\n\t [[{{node adam/truediv_65}}]] [Op:__inference_multi_step_on_iterator_8677]",
     "output_type": "error",
     "traceback": [
      "\u001b[0;31m---------------------------------------------------------------------------\u001b[0m",
      "\u001b[0;31mInvalidArgumentError\u001b[0m                      Traceback (most recent call last)",
      "Cell \u001b[0;32mIn[9], line 5\u001b[0m\n\u001b[1;32m      1\u001b[0m \u001b[38;5;66;03m# train\u001b[39;00m\n\u001b[1;32m      3\u001b[0m model \u001b[38;5;241m=\u001b[39m provide_model()\n\u001b[0;32m----> 5\u001b[0m \u001b[43mmodel\u001b[49m\u001b[38;5;241;43m.\u001b[39;49m\u001b[43mfit\u001b[49m\u001b[43m(\u001b[49m\u001b[43mx_train\u001b[49m\u001b[43m,\u001b[49m\u001b[43m \u001b[49m\u001b[43my_train\u001b[49m\u001b[43m,\u001b[49m\u001b[43m \u001b[49m\u001b[43mepochs\u001b[49m\u001b[38;5;241;43m=\u001b[39;49m\u001b[38;5;241;43m10\u001b[39;49m\u001b[43m,\u001b[49m\u001b[43m \u001b[49m\u001b[43mvalidation_data\u001b[49m\u001b[38;5;241;43m=\u001b[39;49m\u001b[43m(\u001b[49m\u001b[43mx_test\u001b[49m\u001b[43m,\u001b[49m\u001b[43m \u001b[49m\u001b[43my_test\u001b[49m\u001b[43m)\u001b[49m\u001b[43m)\u001b[49m\n",
      "File \u001b[0;32m~/Repositories/CNNClassifier/venv/lib/python3.12/site-packages/keras/src/utils/traceback_utils.py:122\u001b[0m, in \u001b[0;36mfilter_traceback.<locals>.error_handler\u001b[0;34m(*args, **kwargs)\u001b[0m\n\u001b[1;32m    119\u001b[0m     filtered_tb \u001b[38;5;241m=\u001b[39m _process_traceback_frames(e\u001b[38;5;241m.\u001b[39m__traceback__)\n\u001b[1;32m    120\u001b[0m     \u001b[38;5;66;03m# To get the full stack trace, call:\u001b[39;00m\n\u001b[1;32m    121\u001b[0m     \u001b[38;5;66;03m# `keras.config.disable_traceback_filtering()`\u001b[39;00m\n\u001b[0;32m--> 122\u001b[0m     \u001b[38;5;28;01mraise\u001b[39;00m e\u001b[38;5;241m.\u001b[39mwith_traceback(filtered_tb) \u001b[38;5;28;01mfrom\u001b[39;00m\u001b[38;5;250m \u001b[39m\u001b[38;5;28;01mNone\u001b[39;00m\n\u001b[1;32m    123\u001b[0m \u001b[38;5;28;01mfinally\u001b[39;00m:\n\u001b[1;32m    124\u001b[0m     \u001b[38;5;28;01mdel\u001b[39;00m filtered_tb\n",
      "File \u001b[0;32m~/Repositories/CNNClassifier/venv/lib/python3.12/site-packages/tensorflow/python/eager/execute.py:53\u001b[0m, in \u001b[0;36mquick_execute\u001b[0;34m(op_name, num_outputs, inputs, attrs, ctx, name)\u001b[0m\n\u001b[1;32m     51\u001b[0m \u001b[38;5;28;01mtry\u001b[39;00m:\n\u001b[1;32m     52\u001b[0m   ctx\u001b[38;5;241m.\u001b[39mensure_initialized()\n\u001b[0;32m---> 53\u001b[0m   tensors \u001b[38;5;241m=\u001b[39m pywrap_tfe\u001b[38;5;241m.\u001b[39mTFE_Py_Execute(ctx\u001b[38;5;241m.\u001b[39m_handle, device_name, op_name,\n\u001b[1;32m     54\u001b[0m                                       inputs, attrs, num_outputs)\n\u001b[1;32m     55\u001b[0m \u001b[38;5;28;01mexcept\u001b[39;00m core\u001b[38;5;241m.\u001b[39m_NotOkStatusException \u001b[38;5;28;01mas\u001b[39;00m e:\n\u001b[1;32m     56\u001b[0m   \u001b[38;5;28;01mif\u001b[39;00m name \u001b[38;5;129;01mis\u001b[39;00m \u001b[38;5;129;01mnot\u001b[39;00m \u001b[38;5;28;01mNone\u001b[39;00m:\n",
      "\u001b[0;31mInvalidArgumentError\u001b[0m: Graph execution error:\n\nDetected at node adam/truediv_65 defined at (most recent call last):\n  File \"<frozen runpy>\", line 198, in _run_module_as_main\n\n  File \"<frozen runpy>\", line 88, in _run_code\n\n  File \"/Users/pictomo/Repositories/CNNClassifier/venv/lib/python3.12/site-packages/ipykernel_launcher.py\", line 18, in <module>\n\n  File \"/Users/pictomo/Repositories/CNNClassifier/venv/lib/python3.12/site-packages/traitlets/config/application.py\", line 1075, in launch_instance\n\n  File \"/Users/pictomo/Repositories/CNNClassifier/venv/lib/python3.12/site-packages/ipykernel/kernelapp.py\", line 739, in start\n\n  File \"/Users/pictomo/Repositories/CNNClassifier/venv/lib/python3.12/site-packages/tornado/platform/asyncio.py\", line 205, in start\n\n  File \"/Users/pictomo/.pyenv/versions/3.12.6/lib/python3.12/asyncio/base_events.py\", line 641, in run_forever\n\n  File \"/Users/pictomo/.pyenv/versions/3.12.6/lib/python3.12/asyncio/base_events.py\", line 1986, in _run_once\n\n  File \"/Users/pictomo/.pyenv/versions/3.12.6/lib/python3.12/asyncio/events.py\", line 88, in _run\n\n  File \"/Users/pictomo/Repositories/CNNClassifier/venv/lib/python3.12/site-packages/ipykernel/kernelbase.py\", line 545, in dispatch_queue\n\n  File \"/Users/pictomo/Repositories/CNNClassifier/venv/lib/python3.12/site-packages/ipykernel/kernelbase.py\", line 534, in process_one\n\n  File \"/Users/pictomo/Repositories/CNNClassifier/venv/lib/python3.12/site-packages/ipykernel/kernelbase.py\", line 437, in dispatch_shell\n\n  File \"/Users/pictomo/Repositories/CNNClassifier/venv/lib/python3.12/site-packages/ipykernel/ipkernel.py\", line 362, in execute_request\n\n  File \"/Users/pictomo/Repositories/CNNClassifier/venv/lib/python3.12/site-packages/ipykernel/kernelbase.py\", line 778, in execute_request\n\n  File \"/Users/pictomo/Repositories/CNNClassifier/venv/lib/python3.12/site-packages/ipykernel/ipkernel.py\", line 449, in do_execute\n\n  File \"/Users/pictomo/Repositories/CNNClassifier/venv/lib/python3.12/site-packages/ipykernel/zmqshell.py\", line 549, in run_cell\n\n  File \"/Users/pictomo/Repositories/CNNClassifier/venv/lib/python3.12/site-packages/IPython/core/interactiveshell.py\", line 3075, in run_cell\n\n  File \"/Users/pictomo/Repositories/CNNClassifier/venv/lib/python3.12/site-packages/IPython/core/interactiveshell.py\", line 3130, in _run_cell\n\n  File \"/Users/pictomo/Repositories/CNNClassifier/venv/lib/python3.12/site-packages/IPython/core/async_helpers.py\", line 128, in _pseudo_sync_runner\n\n  File \"/Users/pictomo/Repositories/CNNClassifier/venv/lib/python3.12/site-packages/IPython/core/interactiveshell.py\", line 3334, in run_cell_async\n\n  File \"/Users/pictomo/Repositories/CNNClassifier/venv/lib/python3.12/site-packages/IPython/core/interactiveshell.py\", line 3517, in run_ast_nodes\n\n  File \"/Users/pictomo/Repositories/CNNClassifier/venv/lib/python3.12/site-packages/IPython/core/interactiveshell.py\", line 3577, in run_code\n\n  File \"/var/folders/lc/xltvcjxj36qgw_bk7bn42jp00000gn/T/ipykernel_97995/3063878255.py\", line 5, in <module>\n\n  File \"/Users/pictomo/Repositories/CNNClassifier/venv/lib/python3.12/site-packages/keras/src/utils/traceback_utils.py\", line 117, in error_handler\n\n  File \"/Users/pictomo/Repositories/CNNClassifier/venv/lib/python3.12/site-packages/keras/src/backend/tensorflow/trainer.py\", line 371, in fit\n\n  File \"/Users/pictomo/Repositories/CNNClassifier/venv/lib/python3.12/site-packages/keras/src/backend/tensorflow/trainer.py\", line 219, in function\n\n  File \"/Users/pictomo/Repositories/CNNClassifier/venv/lib/python3.12/site-packages/keras/src/backend/tensorflow/trainer.py\", line 132, in multi_step_on_iterator\n\n  File \"/Users/pictomo/Repositories/CNNClassifier/venv/lib/python3.12/site-packages/keras/src/backend/tensorflow/trainer.py\", line 113, in one_step_on_data\n\n  File \"/Users/pictomo/Repositories/CNNClassifier/venv/lib/python3.12/site-packages/keras/src/backend/tensorflow/trainer.py\", line 80, in train_step\n\n  File \"/Users/pictomo/Repositories/CNNClassifier/venv/lib/python3.12/site-packages/keras/src/optimizers/base_optimizer.py\", line 383, in apply_gradients\n\n  File \"/Users/pictomo/Repositories/CNNClassifier/venv/lib/python3.12/site-packages/keras/src/optimizers/base_optimizer.py\", line 448, in apply\n\n  File \"/Users/pictomo/Repositories/CNNClassifier/venv/lib/python3.12/site-packages/keras/src/optimizers/base_optimizer.py\", line 511, in _backend_apply_gradients\n\n  File \"/Users/pictomo/Repositories/CNNClassifier/venv/lib/python3.12/site-packages/keras/src/backend/tensorflow/optimizer.py\", line 120, in _backend_update_step\n\n  File \"/Users/pictomo/Repositories/CNNClassifier/venv/lib/python3.12/site-packages/keras/src/backend/tensorflow/optimizer.py\", line 134, in _distributed_tf_update_step\n\n  File \"/Users/pictomo/Repositories/CNNClassifier/venv/lib/python3.12/site-packages/keras/src/backend/tensorflow/optimizer.py\", line 131, in apply_grad_to_update_var\n\n  File \"/Users/pictomo/Repositories/CNNClassifier/venv/lib/python3.12/site-packages/keras/src/optimizers/adam.py\", line 147, in update_step\n\n  File \"/Users/pictomo/Repositories/CNNClassifier/venv/lib/python3.12/site-packages/keras/src/ops/numpy.py\", line 6055, in divide\n\n  File \"/Users/pictomo/Repositories/CNNClassifier/venv/lib/python3.12/site-packages/keras/src/backend/tensorflow/sparse.py\", line 780, in sparse_wrapper\n\n  File \"/Users/pictomo/Repositories/CNNClassifier/venv/lib/python3.12/site-packages/keras/src/backend/tensorflow/numpy.py\", line 2398, in divide\n\nIncompatible shapes: [0] vs. [3,3,512,512]\n\t [[{{node adam/truediv_65}}]] [Op:__inference_multi_step_on_iterator_8677]"
     ]
    }
   ],
   "source": [
    "# train\n",
    "\n",
    "model = provide_model()\n",
    "\n",
    "model.fit(x_train, y_train, epochs=10, validation_data=(x_test, y_test))"
   ]
  },
  {
   "cell_type": "code",
   "execution_count": 8,
   "metadata": {},
   "outputs": [
    {
     "name": "stdout",
     "output_type": "stream",
     "text": [
      "313/313 - 1s - 4ms/step - accuracy: 0.7063 - loss: 0.8830\n",
      "\n",
      "\n",
      "Test accuracy: 0.7063000202178955\n",
      "Test loss: 0.8829686641693115\n"
     ]
    }
   ],
   "source": [
    "# eval\n",
    "\n",
    "test_loss, test_acc = model.evaluate(x_test, y_test, verbose=2)\n",
    "print(\"\\n\")\n",
    "print('Test accuracy:', test_acc)\n",
    "print('Test loss:', test_loss)"
   ]
  }
 ],
 "metadata": {
  "kernelspec": {
   "display_name": "venv",
   "language": "python",
   "name": "python3"
  },
  "language_info": {
   "codemirror_mode": {
    "name": "ipython",
    "version": 3
   },
   "file_extension": ".py",
   "mimetype": "text/x-python",
   "name": "python",
   "nbconvert_exporter": "python",
   "pygments_lexer": "ipython3",
   "version": "3.12.6"
  }
 },
 "nbformat": 4,
 "nbformat_minor": 2
}
